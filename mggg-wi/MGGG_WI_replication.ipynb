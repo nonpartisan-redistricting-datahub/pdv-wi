{
 "cells": [
  {
   "cell_type": "markdown",
   "metadata": {},
   "source": [
    "MGGG says the shapefile contains the 2011 wards which were in place during the 2012 to 2016 elections\n",
    "\n",
    "I think they mean 2012 and 2016 presidential elections\n",
    "\n",
    "In the LTSB file, other elections results such as 2018 were included as well but it seems like MGGG removed these election results from their file"
   ]
  },
  {
   "cell_type": "code",
   "execution_count": 1,
   "metadata": {},
   "outputs": [],
   "source": [
    "import pandas as pd\n",
    "import geopandas as gp"
   ]
  },
  {
   "cell_type": "markdown",
   "metadata": {},
   "source": [
    "PGP OpenPrecincts links to MGGG WI GitHub:\n",
    "https://openprecincts.org/wi/\n",
    "\n",
    "https://github.com/mggg-states/WI-shapefiles\n",
    "\n",
    "Upon looking at the MGGG WI folder description, it seems like MGGG just retrieved the file from the WI Legislative Technology Services Bureau(LTSB) GIS open data portal:\n",
    "https://data-ltsb.opendata.arcgis.com/datasets/2018-2012-election-data-with-2011-wards\n",
    "\n",
    "The file was already cleaned by LTSB using their own methodology, which we do not have access to but can read more in detail about in the description\n",
    "\n",
    "This code will just be checking that the MGGG file matches the LTSB file"
   ]
  },
  {
   "cell_type": "code",
   "execution_count": 2,
   "metadata": {},
   "outputs": [],
   "source": [
    "ltsb = gp.read_file(\"./2018-2012_Election_Data_with_2011_Wards-shp/2018-2012_Election_Data_with_2011_Wards.shp\")\n",
    "mggg = gp.read_file(\"./WI_wards_12_16/WI_ltsb_corrected_final.shp\")\n",
    "\n",
    "proj = mggg.crs\n",
    "ltsb = ltsb.to_crs(proj)\n",
    "mggg = mggg.to_crs(proj)"
   ]
  },
  {
   "cell_type": "markdown",
   "metadata": {},
   "source": [
    "Check columns and headers to see if they match up"
   ]
  },
  {
   "cell_type": "code",
   "execution_count": 3,
   "metadata": {},
   "outputs": [
    {
     "data": {
      "text/html": [
       "<div>\n",
       "<style scoped>\n",
       "    .dataframe tbody tr th:only-of-type {\n",
       "        vertical-align: middle;\n",
       "    }\n",
       "\n",
       "    .dataframe tbody tr th {\n",
       "        vertical-align: top;\n",
       "    }\n",
       "\n",
       "    .dataframe thead th {\n",
       "        text-align: right;\n",
       "    }\n",
       "</style>\n",
       "<table border=\"1\" class=\"dataframe\">\n",
       "  <thead>\n",
       "    <tr style=\"text-align: right;\">\n",
       "      <th></th>\n",
       "      <th>OBJECTID</th>\n",
       "      <th>GEOID10</th>\n",
       "      <th>LABEL</th>\n",
       "      <th>MCD_NAME</th>\n",
       "      <th>CTV</th>\n",
       "      <th>WARD_ID</th>\n",
       "      <th>CNTY_NAME</th>\n",
       "      <th>CNTY_FIPS</th>\n",
       "      <th>COUSUBFP</th>\n",
       "      <th>MCD_FIPS</th>\n",
       "      <th>...</th>\n",
       "      <th>WSASCT12</th>\n",
       "      <th>WSSTOT12</th>\n",
       "      <th>WSSDEM12</th>\n",
       "      <th>WSSREP12</th>\n",
       "      <th>WSSREP212</th>\n",
       "      <th>WSSCON12</th>\n",
       "      <th>WSSIND12</th>\n",
       "      <th>WSSSCT12</th>\n",
       "      <th>WSSAME12</th>\n",
       "      <th>geometry</th>\n",
       "    </tr>\n",
       "  </thead>\n",
       "  <tbody>\n",
       "    <tr>\n",
       "      <th>0</th>\n",
       "      <td>1</td>\n",
       "      <td>55001002750001</td>\n",
       "      <td>Adams - C 1</td>\n",
       "      <td>Adams</td>\n",
       "      <td>C</td>\n",
       "      <td>0001</td>\n",
       "      <td>Adams</td>\n",
       "      <td>55001</td>\n",
       "      <td>00275</td>\n",
       "      <td>5500100275</td>\n",
       "      <td>...</td>\n",
       "      <td>0</td>\n",
       "      <td>230</td>\n",
       "      <td>137</td>\n",
       "      <td>92</td>\n",
       "      <td>0</td>\n",
       "      <td>0</td>\n",
       "      <td>0</td>\n",
       "      <td>1</td>\n",
       "      <td>0</td>\n",
       "      <td>POLYGON ((-9998455.508 5459185.977, -9998453.5...</td>\n",
       "    </tr>\n",
       "    <tr>\n",
       "      <th>1</th>\n",
       "      <td>2</td>\n",
       "      <td>55001002750002</td>\n",
       "      <td>Adams - C 2</td>\n",
       "      <td>Adams</td>\n",
       "      <td>C</td>\n",
       "      <td>0002</td>\n",
       "      <td>Adams</td>\n",
       "      <td>55001</td>\n",
       "      <td>00275</td>\n",
       "      <td>5500100275</td>\n",
       "      <td>...</td>\n",
       "      <td>0</td>\n",
       "      <td>224</td>\n",
       "      <td>135</td>\n",
       "      <td>89</td>\n",
       "      <td>0</td>\n",
       "      <td>0</td>\n",
       "      <td>0</td>\n",
       "      <td>0</td>\n",
       "      <td>0</td>\n",
       "      <td>POLYGON ((-9997184.128 5458891.224, -9997183.0...</td>\n",
       "    </tr>\n",
       "    <tr>\n",
       "      <th>2</th>\n",
       "      <td>3</td>\n",
       "      <td>55001002750003</td>\n",
       "      <td>Adams - C 3</td>\n",
       "      <td>Adams</td>\n",
       "      <td>C</td>\n",
       "      <td>0003</td>\n",
       "      <td>Adams</td>\n",
       "      <td>55001</td>\n",
       "      <td>00275</td>\n",
       "      <td>5500100275</td>\n",
       "      <td>...</td>\n",
       "      <td>0</td>\n",
       "      <td>100</td>\n",
       "      <td>60</td>\n",
       "      <td>40</td>\n",
       "      <td>0</td>\n",
       "      <td>0</td>\n",
       "      <td>0</td>\n",
       "      <td>0</td>\n",
       "      <td>0</td>\n",
       "      <td>POLYGON ((-9998460.739 5459468.521, -9998466.8...</td>\n",
       "    </tr>\n",
       "    <tr>\n",
       "      <th>3</th>\n",
       "      <td>4</td>\n",
       "      <td>55001002750004</td>\n",
       "      <td>Adams - C 4</td>\n",
       "      <td>Adams</td>\n",
       "      <td>C</td>\n",
       "      <td>0004</td>\n",
       "      <td>Adams</td>\n",
       "      <td>55001</td>\n",
       "      <td>00275</td>\n",
       "      <td>5500100275</td>\n",
       "      <td>...</td>\n",
       "      <td>0</td>\n",
       "      <td>125</td>\n",
       "      <td>75</td>\n",
       "      <td>50</td>\n",
       "      <td>0</td>\n",
       "      <td>0</td>\n",
       "      <td>0</td>\n",
       "      <td>0</td>\n",
       "      <td>0</td>\n",
       "      <td>POLYGON ((-9998455.508 5459185.977, -9998599.2...</td>\n",
       "    </tr>\n",
       "    <tr>\n",
       "      <th>4</th>\n",
       "      <td>5</td>\n",
       "      <td>55001003000001</td>\n",
       "      <td>ADAMS - T 1</td>\n",
       "      <td>ADAMS</td>\n",
       "      <td>T</td>\n",
       "      <td>0001</td>\n",
       "      <td>Adams</td>\n",
       "      <td>55001</td>\n",
       "      <td>00300</td>\n",
       "      <td>5500100300</td>\n",
       "      <td>...</td>\n",
       "      <td>0</td>\n",
       "      <td>335</td>\n",
       "      <td>185</td>\n",
       "      <td>150</td>\n",
       "      <td>0</td>\n",
       "      <td>0</td>\n",
       "      <td>0</td>\n",
       "      <td>0</td>\n",
       "      <td>0</td>\n",
       "      <td>MULTIPOLYGON (((-10007403.702 5461404.809, -10...</td>\n",
       "    </tr>\n",
       "  </tbody>\n",
       "</table>\n",
       "<p>5 rows × 238 columns</p>\n",
       "</div>"
      ],
      "text/plain": [
       "   OBJECTID         GEOID10        LABEL MCD_NAME CTV WARD_ID CNTY_NAME  \\\n",
       "0         1  55001002750001  Adams - C 1    Adams   C    0001     Adams   \n",
       "1         2  55001002750002  Adams - C 2    Adams   C    0002     Adams   \n",
       "2         3  55001002750003  Adams - C 3    Adams   C    0003     Adams   \n",
       "3         4  55001002750004  Adams - C 4    Adams   C    0004     Adams   \n",
       "4         5  55001003000001  ADAMS - T 1    ADAMS   T    0001     Adams   \n",
       "\n",
       "  CNTY_FIPS COUSUBFP    MCD_FIPS  ... WSASCT12 WSSTOT12 WSSDEM12 WSSREP12  \\\n",
       "0     55001    00275  5500100275  ...        0      230      137       92   \n",
       "1     55001    00275  5500100275  ...        0      224      135       89   \n",
       "2     55001    00275  5500100275  ...        0      100       60       40   \n",
       "3     55001    00275  5500100275  ...        0      125       75       50   \n",
       "4     55001    00300  5500100300  ...        0      335      185      150   \n",
       "\n",
       "   WSSREP212  WSSCON12  WSSIND12  WSSSCT12  WSSAME12  \\\n",
       "0          0         0         0         1         0   \n",
       "1          0         0         0         0         0   \n",
       "2          0         0         0         0         0   \n",
       "3          0         0         0         0         0   \n",
       "4          0         0         0         0         0   \n",
       "\n",
       "                                            geometry  \n",
       "0  POLYGON ((-9998455.508 5459185.977, -9998453.5...  \n",
       "1  POLYGON ((-9997184.128 5458891.224, -9997183.0...  \n",
       "2  POLYGON ((-9998460.739 5459468.521, -9998466.8...  \n",
       "3  POLYGON ((-9998455.508 5459185.977, -9998599.2...  \n",
       "4  MULTIPOLYGON (((-10007403.702 5461404.809, -10...  \n",
       "\n",
       "[5 rows x 238 columns]"
      ]
     },
     "execution_count": 3,
     "metadata": {},
     "output_type": "execute_result"
    }
   ],
   "source": [
    "ltsbcol = ltsb.columns.tolist()\n",
    "ltsb.head()"
   ]
  },
  {
   "cell_type": "code",
   "execution_count": 4,
   "metadata": {},
   "outputs": [
    {
     "data": {
      "text/html": [
       "<div>\n",
       "<style scoped>\n",
       "    .dataframe tbody tr th:only-of-type {\n",
       "        vertical-align: middle;\n",
       "    }\n",
       "\n",
       "    .dataframe tbody tr th {\n",
       "        vertical-align: top;\n",
       "    }\n",
       "\n",
       "    .dataframe thead th {\n",
       "        text-align: right;\n",
       "    }\n",
       "</style>\n",
       "<table border=\"1\" class=\"dataframe\">\n",
       "  <thead>\n",
       "    <tr style=\"text-align: right;\">\n",
       "      <th></th>\n",
       "      <th>GEOID10</th>\n",
       "      <th>OBJECTID</th>\n",
       "      <th>NAME</th>\n",
       "      <th>ASM</th>\n",
       "      <th>SEN</th>\n",
       "      <th>CON</th>\n",
       "      <th>CNTY_NAME</th>\n",
       "      <th>PERSONS</th>\n",
       "      <th>WHITE</th>\n",
       "      <th>BLACK</th>\n",
       "      <th>...</th>\n",
       "      <th>WSASCT12</th>\n",
       "      <th>WSSTOT12</th>\n",
       "      <th>WSSDEM12</th>\n",
       "      <th>WSSREP12</th>\n",
       "      <th>WSSREP212</th>\n",
       "      <th>WSSCON12</th>\n",
       "      <th>WSSIND12</th>\n",
       "      <th>WSSSCT12</th>\n",
       "      <th>WSSAME12</th>\n",
       "      <th>geometry</th>\n",
       "    </tr>\n",
       "  </thead>\n",
       "  <tbody>\n",
       "    <tr>\n",
       "      <th>0</th>\n",
       "      <td>55001002750001</td>\n",
       "      <td>1</td>\n",
       "      <td>Adams - C 1</td>\n",
       "      <td>41</td>\n",
       "      <td>14</td>\n",
       "      <td>3</td>\n",
       "      <td>Adams</td>\n",
       "      <td>661</td>\n",
       "      <td>620</td>\n",
       "      <td>17</td>\n",
       "      <td>...</td>\n",
       "      <td>0</td>\n",
       "      <td>230</td>\n",
       "      <td>137</td>\n",
       "      <td>92</td>\n",
       "      <td>0</td>\n",
       "      <td>0</td>\n",
       "      <td>0</td>\n",
       "      <td>1</td>\n",
       "      <td>0</td>\n",
       "      <td>POLYGON ((-9998455.263 5459186.119, -9998453.2...</td>\n",
       "    </tr>\n",
       "    <tr>\n",
       "      <th>1</th>\n",
       "      <td>55001002750002</td>\n",
       "      <td>2</td>\n",
       "      <td>Adams - C 2</td>\n",
       "      <td>41</td>\n",
       "      <td>14</td>\n",
       "      <td>3</td>\n",
       "      <td>Adams</td>\n",
       "      <td>652</td>\n",
       "      <td>599</td>\n",
       "      <td>6</td>\n",
       "      <td>...</td>\n",
       "      <td>0</td>\n",
       "      <td>224</td>\n",
       "      <td>135</td>\n",
       "      <td>89</td>\n",
       "      <td>0</td>\n",
       "      <td>0</td>\n",
       "      <td>0</td>\n",
       "      <td>0</td>\n",
       "      <td>0</td>\n",
       "      <td>POLYGON ((-9997183.884 5458891.368, -9997182.7...</td>\n",
       "    </tr>\n",
       "    <tr>\n",
       "      <th>2</th>\n",
       "      <td>55001002750003</td>\n",
       "      <td>3</td>\n",
       "      <td>Adams - C 3</td>\n",
       "      <td>41</td>\n",
       "      <td>14</td>\n",
       "      <td>3</td>\n",
       "      <td>Adams</td>\n",
       "      <td>288</td>\n",
       "      <td>278</td>\n",
       "      <td>6</td>\n",
       "      <td>...</td>\n",
       "      <td>0</td>\n",
       "      <td>100</td>\n",
       "      <td>60</td>\n",
       "      <td>40</td>\n",
       "      <td>0</td>\n",
       "      <td>0</td>\n",
       "      <td>0</td>\n",
       "      <td>0</td>\n",
       "      <td>0</td>\n",
       "      <td>POLYGON ((-9998460.495 5459468.662, -9998466.6...</td>\n",
       "    </tr>\n",
       "    <tr>\n",
       "      <th>3</th>\n",
       "      <td>55001002750004</td>\n",
       "      <td>4</td>\n",
       "      <td>Adams - C 4</td>\n",
       "      <td>41</td>\n",
       "      <td>14</td>\n",
       "      <td>3</td>\n",
       "      <td>Adams</td>\n",
       "      <td>366</td>\n",
       "      <td>350</td>\n",
       "      <td>2</td>\n",
       "      <td>...</td>\n",
       "      <td>0</td>\n",
       "      <td>125</td>\n",
       "      <td>75</td>\n",
       "      <td>50</td>\n",
       "      <td>0</td>\n",
       "      <td>0</td>\n",
       "      <td>0</td>\n",
       "      <td>0</td>\n",
       "      <td>0</td>\n",
       "      <td>POLYGON ((-9998455.263 5459186.119, -9998598.9...</td>\n",
       "    </tr>\n",
       "    <tr>\n",
       "      <th>4</th>\n",
       "      <td>55001003000001</td>\n",
       "      <td>5</td>\n",
       "      <td>ADAMS - T 1</td>\n",
       "      <td>41</td>\n",
       "      <td>14</td>\n",
       "      <td>3</td>\n",
       "      <td>Adams</td>\n",
       "      <td>902</td>\n",
       "      <td>847</td>\n",
       "      <td>2</td>\n",
       "      <td>...</td>\n",
       "      <td>0</td>\n",
       "      <td>335</td>\n",
       "      <td>185</td>\n",
       "      <td>150</td>\n",
       "      <td>0</td>\n",
       "      <td>0</td>\n",
       "      <td>0</td>\n",
       "      <td>0</td>\n",
       "      <td>0</td>\n",
       "      <td>MULTIPOLYGON (((-10007403.458 5461404.936, -10...</td>\n",
       "    </tr>\n",
       "  </tbody>\n",
       "</table>\n",
       "<p>5 rows × 180 columns</p>\n",
       "</div>"
      ],
      "text/plain": [
       "          GEOID10  OBJECTID         NAME  ASM  SEN  CON CNTY_NAME  PERSONS  \\\n",
       "0  55001002750001         1  Adams - C 1   41   14    3     Adams      661   \n",
       "1  55001002750002         2  Adams - C 2   41   14    3     Adams      652   \n",
       "2  55001002750003         3  Adams - C 3   41   14    3     Adams      288   \n",
       "3  55001002750004         4  Adams - C 4   41   14    3     Adams      366   \n",
       "4  55001003000001         5  ADAMS - T 1   41   14    3     Adams      902   \n",
       "\n",
       "   WHITE  BLACK  ...  WSASCT12  WSSTOT12  WSSDEM12  WSSREP12  WSSREP212  \\\n",
       "0    620     17  ...         0       230       137        92          0   \n",
       "1    599      6  ...         0       224       135        89          0   \n",
       "2    278      6  ...         0       100        60        40          0   \n",
       "3    350      2  ...         0       125        75        50          0   \n",
       "4    847      2  ...         0       335       185       150          0   \n",
       "\n",
       "   WSSCON12  WSSIND12  WSSSCT12  WSSAME12  \\\n",
       "0         0         0         1         0   \n",
       "1         0         0         0         0   \n",
       "2         0         0         0         0   \n",
       "3         0         0         0         0   \n",
       "4         0         0         0         0   \n",
       "\n",
       "                                            geometry  \n",
       "0  POLYGON ((-9998455.263 5459186.119, -9998453.2...  \n",
       "1  POLYGON ((-9997183.884 5458891.368, -9997182.7...  \n",
       "2  POLYGON ((-9998460.495 5459468.662, -9998466.6...  \n",
       "3  POLYGON ((-9998455.263 5459186.119, -9998598.9...  \n",
       "4  MULTIPOLYGON (((-10007403.458 5461404.936, -10...  \n",
       "\n",
       "[5 rows x 180 columns]"
      ]
     },
     "execution_count": 4,
     "metadata": {},
     "output_type": "execute_result"
    }
   ],
   "source": [
    "mgggcol = mggg.columns.tolist() \n",
    "mggg.head()"
   ]
  },
  {
   "cell_type": "markdown",
   "metadata": {},
   "source": [
    "LTSB file has 238 columns but MGGG has 180 columns\n",
    "\n",
    "I assume MGGG probably just deleted some columns they did not find relevant\n",
    "\n",
    "Column names seem to match up\n",
    "\n",
    "Check that there are the same amount of rows"
   ]
  },
  {
   "cell_type": "code",
   "execution_count": 5,
   "metadata": {},
   "outputs": [
    {
     "data": {
      "text/plain": [
       "(6634, 238)"
      ]
     },
     "execution_count": 5,
     "metadata": {},
     "output_type": "execute_result"
    }
   ],
   "source": [
    "ltsb.shape"
   ]
  },
  {
   "cell_type": "code",
   "execution_count": 6,
   "metadata": {},
   "outputs": [
    {
     "data": {
      "text/plain": [
       "(6634, 180)"
      ]
     },
     "execution_count": 6,
     "metadata": {},
     "output_type": "execute_result"
    }
   ],
   "source": [
    "mggg.shape"
   ]
  },
  {
   "cell_type": "code",
   "execution_count": 7,
   "metadata": {},
   "outputs": [],
   "source": [
    "validate = [i for i in mggg if i in ltsb]\n",
    "missing = [i for i in mggg if i not in ltsb]"
   ]
  },
  {
   "cell_type": "code",
   "execution_count": 8,
   "metadata": {},
   "outputs": [
    {
     "data": {
      "text/plain": [
       "168"
      ]
     },
     "execution_count": 8,
     "metadata": {},
     "output_type": "execute_result"
    }
   ],
   "source": [
    "len(validate)"
   ]
  },
  {
   "cell_type": "markdown",
   "metadata": {},
   "source": [
    "Validate should find all 180 columns in MGGG in the original LTSB file, only found 168\n",
    "\n",
    "Check which MGGG columns are not from LTSB file"
   ]
  },
  {
   "cell_type": "code",
   "execution_count": 9,
   "metadata": {
    "scrolled": true
   },
   "outputs": [
    {
     "data": {
      "text/plain": [
       "['NAME',\n",
       " 'USSTOT14',\n",
       " 'USSDEM14',\n",
       " 'USSREP14',\n",
       " 'USSIND14',\n",
       " 'USSSCT14',\n",
       " 'WAGTOT12',\n",
       " 'WAGDEM12',\n",
       " 'WAGDEM212',\n",
       " 'WAGREP12',\n",
       " 'WAGIND12',\n",
       " 'WAGSCT12']"
      ]
     },
     "execution_count": 9,
     "metadata": {},
     "output_type": "execute_result"
    }
   ],
   "source": [
    "missing"
   ]
  },
  {
   "cell_type": "markdown",
   "metadata": {},
   "source": [
    "Votes for US Senate in 2014, Attorney General in 2012 included in MGGG\n",
    "\n",
    "Checked to see if they were named differently in the LTSB file, seems like it was not included\n",
    "\n",
    "Check to see if MGGG NAME column matches up with LTSB LABEL column"
   ]
  },
  {
   "cell_type": "code",
   "execution_count": 10,
   "metadata": {},
   "outputs": [],
   "source": [
    "validate = pd.merge(mggg, ltsb, on=['GEOID10'], how='left')"
   ]
  },
  {
   "cell_type": "markdown",
   "metadata": {},
   "source": [
    "LABEL and NAME columns are the same, so only things missing from LTSB file that were additions to the MGGG file is USS14 and WAG12 results"
   ]
  },
  {
   "cell_type": "code",
   "execution_count": 11,
   "metadata": {},
   "outputs": [
    {
     "data": {
      "text/html": [
       "<div>\n",
       "<style scoped>\n",
       "    .dataframe tbody tr th:only-of-type {\n",
       "        vertical-align: middle;\n",
       "    }\n",
       "\n",
       "    .dataframe tbody tr th {\n",
       "        vertical-align: top;\n",
       "    }\n",
       "\n",
       "    .dataframe thead th {\n",
       "        text-align: right;\n",
       "    }\n",
       "</style>\n",
       "<table border=\"1\" class=\"dataframe\">\n",
       "  <thead>\n",
       "    <tr style=\"text-align: right;\">\n",
       "      <th></th>\n",
       "      <th>LABEL</th>\n",
       "      <th>NAME</th>\n",
       "    </tr>\n",
       "  </thead>\n",
       "  <tbody>\n",
       "    <tr>\n",
       "      <th>0</th>\n",
       "      <td>Adams - C 1</td>\n",
       "      <td>Adams - C 1</td>\n",
       "    </tr>\n",
       "    <tr>\n",
       "      <th>1</th>\n",
       "      <td>Adams - C 2</td>\n",
       "      <td>Adams - C 2</td>\n",
       "    </tr>\n",
       "    <tr>\n",
       "      <th>2</th>\n",
       "      <td>Adams - C 3</td>\n",
       "      <td>Adams - C 3</td>\n",
       "    </tr>\n",
       "    <tr>\n",
       "      <th>3</th>\n",
       "      <td>Adams - C 4</td>\n",
       "      <td>Adams - C 4</td>\n",
       "    </tr>\n",
       "    <tr>\n",
       "      <th>4</th>\n",
       "      <td>ADAMS - T 1</td>\n",
       "      <td>ADAMS - T 1</td>\n",
       "    </tr>\n",
       "    <tr>\n",
       "      <th>5</th>\n",
       "      <td>ADAMS - T 2</td>\n",
       "      <td>ADAMS - T 2</td>\n",
       "    </tr>\n",
       "    <tr>\n",
       "      <th>6</th>\n",
       "      <td>ADAMS - T 3</td>\n",
       "      <td>ADAMS - T 3</td>\n",
       "    </tr>\n",
       "    <tr>\n",
       "      <th>7</th>\n",
       "      <td>BIG FLATS - T 1</td>\n",
       "      <td>BIG FLATS - T 1</td>\n",
       "    </tr>\n",
       "    <tr>\n",
       "      <th>8</th>\n",
       "      <td>BIG FLATS - T 2</td>\n",
       "      <td>BIG FLATS - T 2</td>\n",
       "    </tr>\n",
       "    <tr>\n",
       "      <th>9</th>\n",
       "      <td>COLBURN - T 1</td>\n",
       "      <td>COLBURN - T 1</td>\n",
       "    </tr>\n",
       "  </tbody>\n",
       "</table>\n",
       "</div>"
      ],
      "text/plain": [
       "             LABEL             NAME\n",
       "0      Adams - C 1      Adams - C 1\n",
       "1      Adams - C 2      Adams - C 2\n",
       "2      Adams - C 3      Adams - C 3\n",
       "3      Adams - C 4      Adams - C 4\n",
       "4      ADAMS - T 1      ADAMS - T 1\n",
       "5      ADAMS - T 2      ADAMS - T 2\n",
       "6      ADAMS - T 3      ADAMS - T 3\n",
       "7  BIG FLATS - T 1  BIG FLATS - T 1\n",
       "8  BIG FLATS - T 2  BIG FLATS - T 2\n",
       "9    COLBURN - T 1    COLBURN - T 1"
      ]
     },
     "execution_count": 11,
     "metadata": {},
     "output_type": "execute_result"
    }
   ],
   "source": [
    "validate[['LABEL', 'NAME']].head(10)"
   ]
  },
  {
   "cell_type": "code",
   "execution_count": 12,
   "metadata": {
    "scrolled": false
   },
   "outputs": [
    {
     "data": {
      "text/plain": [
       "['GEOID10',\n",
       " 'OBJECTID_x',\n",
       " 'NAME',\n",
       " 'ASM_x',\n",
       " 'SEN_x',\n",
       " 'CON_x',\n",
       " 'CNTY_NAME_x',\n",
       " 'PERSONS_x',\n",
       " 'WHITE_x',\n",
       " 'BLACK_x',\n",
       " 'HISPANIC_x',\n",
       " 'ASIAN_x',\n",
       " 'AMINDIAN_x',\n",
       " 'PISLAND_x',\n",
       " 'OTHER_x',\n",
       " 'OTHERMLT_x',\n",
       " 'PERSONS18_x',\n",
       " 'WHITE18_x',\n",
       " 'BLACK18_x',\n",
       " 'HISPANIC18_x',\n",
       " 'ASIAN18_x',\n",
       " 'AMINDIAN18_x',\n",
       " 'PISLAND18_x',\n",
       " 'OTHER18_x',\n",
       " 'OTHERMLT18_x',\n",
       " 'CDATOT16_x',\n",
       " 'CDADEM16_x',\n",
       " 'CDADEM216_x',\n",
       " 'CDAREP16_x',\n",
       " 'CDAIND16_x',\n",
       " 'CDASCT16_x',\n",
       " 'PRETOT16_x',\n",
       " 'PREDEM16_x',\n",
       " 'PREREP16_x',\n",
       " 'PREGRN16_x',\n",
       " 'PRELIB16_x',\n",
       " 'PRECON16_x',\n",
       " 'PREIND16_x',\n",
       " 'PREIND216_x',\n",
       " 'PREIND316_x',\n",
       " 'PREIND416_x',\n",
       " 'PREIND516_x',\n",
       " 'PREIND616_x',\n",
       " 'PREIND716_x',\n",
       " 'PREIND816_x',\n",
       " 'PREIND916_x',\n",
       " 'PREIND1016_x',\n",
       " 'PREIND1116_x',\n",
       " 'PRESCT16_x',\n",
       " 'USHTOT16_x',\n",
       " 'USHDEM16_x',\n",
       " 'USHDEM216_x',\n",
       " 'USHREP16_x',\n",
       " 'USHGRN16_x',\n",
       " 'USHLIB16_x',\n",
       " 'USHIND16_x',\n",
       " 'USHSCT16_x',\n",
       " 'USSTOT16_x',\n",
       " 'USSDEM16_x',\n",
       " 'USSREP16_x',\n",
       " 'USSREP216_x',\n",
       " 'USSLIB16_x',\n",
       " 'USSSCT16_x',\n",
       " 'WSATOT16_x',\n",
       " 'WSADEM16_x',\n",
       " 'WSAREP16_x',\n",
       " 'WSALIB16_x',\n",
       " 'WSAIND16_x',\n",
       " 'WSASCT16_x',\n",
       " 'WSSTOT16_x',\n",
       " 'WSSDEM16_x',\n",
       " 'WSSREP16_x',\n",
       " 'WSSIND16_x',\n",
       " 'WSSSCT16_x',\n",
       " 'GOVTOT14_x',\n",
       " 'GOVDEM14_x',\n",
       " 'GOVREP14_x',\n",
       " 'GOVREP214_x',\n",
       " 'GOVREP314_x',\n",
       " 'GOVCON14_x',\n",
       " 'GOVIND14_x',\n",
       " 'GOVIND214_x',\n",
       " 'GOVIND314_x',\n",
       " 'GOVIND414_x',\n",
       " 'GOVIND514_x',\n",
       " 'GOVSCT14_x',\n",
       " 'SOSTOT14_x',\n",
       " 'SOSDEM14_x',\n",
       " 'SOSREP14_x',\n",
       " 'SOSCON14_x',\n",
       " 'SOSIND14_x',\n",
       " 'SOSSCT14_x',\n",
       " 'TRSTOT14_x',\n",
       " 'TRSDEM14_x',\n",
       " 'TRSREP14_x',\n",
       " 'TRSCON14_x',\n",
       " 'TRSIND14_x',\n",
       " 'TRSIND214_x',\n",
       " 'TRSSCT14_x',\n",
       " 'USHTOT14_x',\n",
       " 'USHDEM14_x',\n",
       " 'USHREP14_x',\n",
       " 'USHREP214_x',\n",
       " 'USHIND14_x',\n",
       " 'USHIND214_x',\n",
       " 'USHSCT14_x',\n",
       " 'USSTOT14',\n",
       " 'USSDEM14',\n",
       " 'USSREP14',\n",
       " 'USSIND14',\n",
       " 'USSSCT14',\n",
       " 'WAGTOT14_x',\n",
       " 'WAGDEM14_x',\n",
       " 'WAGREP14_x',\n",
       " 'WAGIND14_x',\n",
       " 'WAGSCT14_x',\n",
       " 'WSATOT14_x',\n",
       " 'WSADEM14_x',\n",
       " 'WSAREP14_x',\n",
       " 'WSAREP214_x',\n",
       " 'WSAIND14_x',\n",
       " 'WSASCT14_x',\n",
       " 'CDATOT12_x',\n",
       " 'CDADEM12_x',\n",
       " 'CDADEM212_x',\n",
       " 'CDAREP12_x',\n",
       " 'CDAIND12_x',\n",
       " 'CDASCT12_x',\n",
       " 'GOVTOT12_x',\n",
       " 'GOVDEM12_x',\n",
       " 'GOVREP12_x',\n",
       " 'GOVIND12_x',\n",
       " 'GOVSCT12_x',\n",
       " 'PRETOT12_x',\n",
       " 'PREDEM12_x',\n",
       " 'PREREP12_x',\n",
       " 'PRECON12_x',\n",
       " 'PREIND12_x',\n",
       " 'PREIND212_x',\n",
       " 'PREIND312_x',\n",
       " 'PREIND412_x',\n",
       " 'PREIND512_x',\n",
       " 'PREIND612_x',\n",
       " 'PRESCT12_x',\n",
       " 'USHTOT12_x',\n",
       " 'USHDEM12_x',\n",
       " 'USHREP12_x',\n",
       " 'USHIND12_x',\n",
       " 'USHSCT12_x',\n",
       " 'USSTOT12_x',\n",
       " 'USSDEM12_x',\n",
       " 'USSREP12_x',\n",
       " 'USSCON12_x',\n",
       " 'USSIND12_x',\n",
       " 'USSIND212_x',\n",
       " 'USSIND312_x',\n",
       " 'USSSCT12_x',\n",
       " 'WAGTOT12',\n",
       " 'WAGDEM12',\n",
       " 'WAGDEM212',\n",
       " 'WAGREP12',\n",
       " 'WAGIND12',\n",
       " 'WAGSCT12',\n",
       " 'WSATOT12_x',\n",
       " 'WSADEM12_x',\n",
       " 'WSADEM212_x',\n",
       " 'WSAREP12_x',\n",
       " 'WSAREP212_x',\n",
       " 'WSAIND12_x',\n",
       " 'WSAIND212_x',\n",
       " 'WSASCT12_x',\n",
       " 'WSSTOT12_x',\n",
       " 'WSSDEM12_x',\n",
       " 'WSSREP12_x',\n",
       " 'WSSREP212_x',\n",
       " 'WSSCON12_x',\n",
       " 'WSSIND12_x',\n",
       " 'WSSSCT12_x',\n",
       " 'WSSAME12_x',\n",
       " 'geometry_x',\n",
       " 'OBJECTID_y',\n",
       " 'LABEL',\n",
       " 'MCD_NAME',\n",
       " 'CTV',\n",
       " 'WARD_ID',\n",
       " 'CNTY_NAME_y',\n",
       " 'CNTY_FIPS',\n",
       " 'COUSUBFP',\n",
       " 'MCD_FIPS',\n",
       " 'WARD_FIPS',\n",
       " 'ASM_y',\n",
       " 'SEN_y',\n",
       " 'CON_y',\n",
       " 'PERSONS_y',\n",
       " 'WHITE_y',\n",
       " 'BLACK_y',\n",
       " 'HISPANIC_y',\n",
       " 'ASIAN_y',\n",
       " 'AMINDIAN_y',\n",
       " 'PISLAND_y',\n",
       " 'OTHER_y',\n",
       " 'OTHERMLT_y',\n",
       " 'PERSONS18_y',\n",
       " 'WHITE18_y',\n",
       " 'BLACK18_y',\n",
       " 'HISPANIC18_y',\n",
       " 'ASIAN18_y',\n",
       " 'AMINDIAN18_y',\n",
       " 'PISLAND18_y',\n",
       " 'OTHER18_y',\n",
       " 'OTHERMLT18_y',\n",
       " 'GOVTOT18',\n",
       " 'GOVREP18',\n",
       " 'GOVDEM18',\n",
       " 'GOVLIB18',\n",
       " 'GOVIND18',\n",
       " 'GOVIND218',\n",
       " 'GOVIND318',\n",
       " 'GOVREP218',\n",
       " 'GOVDEM218',\n",
       " 'GOVCON18',\n",
       " 'GOVDEM318',\n",
       " 'GOVIND418',\n",
       " 'GOVIND518',\n",
       " 'GOVDEM418',\n",
       " 'GOVDEM518',\n",
       " 'GOVSCT18',\n",
       " 'SOSTOT18',\n",
       " 'SOSREP18',\n",
       " 'SOSDEM18',\n",
       " 'SOSGRN18',\n",
       " 'SOSSCT18',\n",
       " 'TRSTOT18',\n",
       " 'TRSREP18',\n",
       " 'TRSDEM18',\n",
       " 'TRSCON18',\n",
       " 'TRSSCT18',\n",
       " 'USHTOT18',\n",
       " 'USHREP18',\n",
       " 'USHDEM18',\n",
       " 'USHIND18',\n",
       " 'USHIND218',\n",
       " 'USHDEM218',\n",
       " 'USHSCT18',\n",
       " 'USSTOT18',\n",
       " 'USSREP18',\n",
       " 'USSDEM18',\n",
       " 'USSIND18',\n",
       " 'USSSCT18',\n",
       " 'USSIND218',\n",
       " 'WAGTOT18',\n",
       " 'WAGREP18',\n",
       " 'WAGDEM18',\n",
       " 'WAGCON18',\n",
       " 'WAGSCT18',\n",
       " 'WSATOT18',\n",
       " 'WSAREP18',\n",
       " 'WSADEM18',\n",
       " 'WSAIND18',\n",
       " 'WSALIB18',\n",
       " 'WSASCT18',\n",
       " 'WSACON18',\n",
       " 'WSAREP218',\n",
       " 'WSSTOT18',\n",
       " 'WSSREP18',\n",
       " 'WSSDEM18',\n",
       " 'WSSSCT18',\n",
       " 'WSSIND18',\n",
       " 'CDATOT16_y',\n",
       " 'CDADEM16_y',\n",
       " 'CDADEM216_y',\n",
       " 'CDAREP16_y',\n",
       " 'CDAIND16_y',\n",
       " 'CDASCT16_y',\n",
       " 'PRETOT16_y',\n",
       " 'PREDEM16_y',\n",
       " 'PREREP16_y',\n",
       " 'PREGRN16_y',\n",
       " 'PRELIB16_y',\n",
       " 'PRECON16_y',\n",
       " 'PREIND16_y',\n",
       " 'PREIND216_y',\n",
       " 'PREIND316_y',\n",
       " 'PREIND416_y',\n",
       " 'PREIND516_y',\n",
       " 'PREIND616_y',\n",
       " 'PREIND716_y',\n",
       " 'PREIND816_y',\n",
       " 'PREIND916_y',\n",
       " 'PREIND1016_y',\n",
       " 'PREIND1116_y',\n",
       " 'PRESCT16_y',\n",
       " 'USHTOT16_y',\n",
       " 'USHDEM16_y',\n",
       " 'USHDEM216_y',\n",
       " 'USHREP16_y',\n",
       " 'USHGRN16_y',\n",
       " 'USHLIB16_y',\n",
       " 'USHIND16_y',\n",
       " 'USHSCT16_y',\n",
       " 'USSTOT16_y',\n",
       " 'USSDEM16_y',\n",
       " 'USSREP16_y',\n",
       " 'USSREP216_y',\n",
       " 'USSLIB16_y',\n",
       " 'USSSCT16_y',\n",
       " 'WSATOT16_y',\n",
       " 'WSADEM16_y',\n",
       " 'WSAREP16_y',\n",
       " 'WSALIB16_y',\n",
       " 'WSAIND16_y',\n",
       " 'WSASCT16_y',\n",
       " 'WSSTOT16_y',\n",
       " 'WSSDEM16_y',\n",
       " 'WSSREP16_y',\n",
       " 'WSSIND16_y',\n",
       " 'WSSSCT16_y',\n",
       " 'GOVTOT14_y',\n",
       " 'GOVDEM14_y',\n",
       " 'GOVREP14_y',\n",
       " 'GOVIND14_y',\n",
       " 'GOVIND214_y',\n",
       " 'GOVIND314_y',\n",
       " 'GOVREP214_y',\n",
       " 'GOVCON14_y',\n",
       " 'GOVIND414_y',\n",
       " 'GOVIND514_y',\n",
       " 'GOVREP314_y',\n",
       " 'GOVSCT14_y',\n",
       " 'SOSTOT14_y',\n",
       " 'SOSDEM14_y',\n",
       " 'SOSREP14_y',\n",
       " 'SOSCON14_y',\n",
       " 'SOSIND14_y',\n",
       " 'SOSSCT14_y',\n",
       " 'TRSTOT14_y',\n",
       " 'TRSDEM14_y',\n",
       " 'TRSREP14_y',\n",
       " 'TRSCON14_y',\n",
       " 'TRSIND14_y',\n",
       " 'TRSIND214_y',\n",
       " 'TRSSCT14_y',\n",
       " 'USHTOT14_y',\n",
       " 'USHDEM14_y',\n",
       " 'USHREP14_y',\n",
       " 'USHIND14_y',\n",
       " 'USHREP214_y',\n",
       " 'USHIND214_y',\n",
       " 'USHSCT14_y',\n",
       " 'WAGTOT14_y',\n",
       " 'WAGDEM14_y',\n",
       " 'WAGREP14_y',\n",
       " 'WAGIND14_y',\n",
       " 'WAGSCT14_y',\n",
       " 'WSATOT14_y',\n",
       " 'WSADEM14_y',\n",
       " 'WSAREP14_y',\n",
       " 'WSAIND14_y',\n",
       " 'WSAREP214_y',\n",
       " 'WSASCT14_y',\n",
       " 'WSSTOT14',\n",
       " 'WSSDEM14',\n",
       " 'WSSREP14',\n",
       " 'WSSIND14',\n",
       " 'WSSSCT14',\n",
       " 'CDATOT12_y',\n",
       " 'CDADEM12_y',\n",
       " 'CDADEM212_y',\n",
       " 'CDAREP12_y',\n",
       " 'CDAIND12_y',\n",
       " 'CDASCT12_y',\n",
       " 'GOVTOT12_y',\n",
       " 'GOVDEM12_y',\n",
       " 'GOVREP12_y',\n",
       " 'GOVIND12_y',\n",
       " 'GOVSCT12_y',\n",
       " 'PRETOT12_y',\n",
       " 'PREDEM12_y',\n",
       " 'PREREP12_y',\n",
       " 'PRECON12_y',\n",
       " 'PREIND12_y',\n",
       " 'PREIND212_y',\n",
       " 'PREIND312_y',\n",
       " 'PREIND412_y',\n",
       " 'PREIND512_y',\n",
       " 'PREIND612_y',\n",
       " 'PRESCT12_y',\n",
       " 'USHTOT12_y',\n",
       " 'USHDEM12_y',\n",
       " 'USHREP12_y',\n",
       " 'USHIND12_y',\n",
       " 'USHSCT12_y',\n",
       " 'USSTOT12_y',\n",
       " 'USSDEM12_y',\n",
       " 'USSREP12_y',\n",
       " 'USSCON12_y',\n",
       " 'USSIND12_y',\n",
       " 'USSIND212_y',\n",
       " 'USSIND312_y',\n",
       " 'USSSCT12_y',\n",
       " 'WSATOT12_y',\n",
       " 'WSADEM12_y',\n",
       " 'WSADEM212_y',\n",
       " 'WSAREP12_y',\n",
       " 'WSAREP212_y',\n",
       " 'WSAIND12_y',\n",
       " 'WSAIND212_y',\n",
       " 'WSASCT12_y',\n",
       " 'WSSTOT12_y',\n",
       " 'WSSDEM12_y',\n",
       " 'WSSREP12_y',\n",
       " 'WSSREP212_y',\n",
       " 'WSSCON12_y',\n",
       " 'WSSIND12_y',\n",
       " 'WSSSCT12_y',\n",
       " 'WSSAME12_y',\n",
       " 'geometry_y']"
      ]
     },
     "execution_count": 12,
     "metadata": {},
     "output_type": "execute_result"
    }
   ],
   "source": [
    "validate.columns.tolist()"
   ]
  },
  {
   "cell_type": "code",
   "execution_count": 13,
   "metadata": {},
   "outputs": [
    {
     "data": {
      "text/html": [
       "<div>\n",
       "<style scoped>\n",
       "    .dataframe tbody tr th:only-of-type {\n",
       "        vertical-align: middle;\n",
       "    }\n",
       "\n",
       "    .dataframe tbody tr th {\n",
       "        vertical-align: top;\n",
       "    }\n",
       "\n",
       "    .dataframe thead th {\n",
       "        text-align: right;\n",
       "    }\n",
       "</style>\n",
       "<table border=\"1\" class=\"dataframe\">\n",
       "  <thead>\n",
       "    <tr style=\"text-align: right;\">\n",
       "      <th></th>\n",
       "      <th>PRETOT16_x</th>\n",
       "      <th>PRETOT16_y</th>\n",
       "    </tr>\n",
       "  </thead>\n",
       "  <tbody>\n",
       "    <tr>\n",
       "      <th>0</th>\n",
       "      <td>258</td>\n",
       "      <td>258</td>\n",
       "    </tr>\n",
       "    <tr>\n",
       "      <th>1</th>\n",
       "      <td>241</td>\n",
       "      <td>241</td>\n",
       "    </tr>\n",
       "    <tr>\n",
       "      <th>2</th>\n",
       "      <td>113</td>\n",
       "      <td>113</td>\n",
       "    </tr>\n",
       "    <tr>\n",
       "      <th>3</th>\n",
       "      <td>136</td>\n",
       "      <td>136</td>\n",
       "    </tr>\n",
       "    <tr>\n",
       "      <th>4</th>\n",
       "      <td>414</td>\n",
       "      <td>414</td>\n",
       "    </tr>\n",
       "  </tbody>\n",
       "</table>\n",
       "</div>"
      ],
      "text/plain": [
       "   PRETOT16_x  PRETOT16_y\n",
       "0         258         258\n",
       "1         241         241\n",
       "2         113         113\n",
       "3         136         136\n",
       "4         414         414"
      ]
     },
     "execution_count": 13,
     "metadata": {},
     "output_type": "execute_result"
    }
   ],
   "source": [
    "validate[['PRETOT16_x','PRETOT16_y']].head()"
   ]
  },
  {
   "cell_type": "code",
   "execution_count": 14,
   "metadata": {},
   "outputs": [
    {
     "data": {
      "text/plain": [
       "1.0"
      ]
     },
     "execution_count": 14,
     "metadata": {},
     "output_type": "execute_result"
    }
   ],
   "source": [
    "validate['vote_diff_PRETOT16'] = validate.PRETOT16_x - validate.PRETOT16_y\n",
    "validate[validate.vote_diff_PRETOT16.abs()<10].shape[0] / validate.shape[0]"
   ]
  },
  {
   "cell_type": "code",
   "execution_count": 15,
   "metadata": {},
   "outputs": [
    {
     "data": {
      "text/html": [
       "<div>\n",
       "<style scoped>\n",
       "    .dataframe tbody tr th:only-of-type {\n",
       "        vertical-align: middle;\n",
       "    }\n",
       "\n",
       "    .dataframe tbody tr th {\n",
       "        vertical-align: top;\n",
       "    }\n",
       "\n",
       "    .dataframe thead th {\n",
       "        text-align: right;\n",
       "    }\n",
       "</style>\n",
       "<table border=\"1\" class=\"dataframe\">\n",
       "  <thead>\n",
       "    <tr style=\"text-align: right;\">\n",
       "      <th></th>\n",
       "      <th>USSTOT16_x</th>\n",
       "      <th>USSTOT16_y</th>\n",
       "    </tr>\n",
       "  </thead>\n",
       "  <tbody>\n",
       "    <tr>\n",
       "      <th>0</th>\n",
       "      <td>245</td>\n",
       "      <td>245</td>\n",
       "    </tr>\n",
       "    <tr>\n",
       "      <th>1</th>\n",
       "      <td>239</td>\n",
       "      <td>239</td>\n",
       "    </tr>\n",
       "    <tr>\n",
       "      <th>2</th>\n",
       "      <td>107</td>\n",
       "      <td>107</td>\n",
       "    </tr>\n",
       "    <tr>\n",
       "      <th>3</th>\n",
       "      <td>133</td>\n",
       "      <td>133</td>\n",
       "    </tr>\n",
       "    <tr>\n",
       "      <th>4</th>\n",
       "      <td>404</td>\n",
       "      <td>404</td>\n",
       "    </tr>\n",
       "  </tbody>\n",
       "</table>\n",
       "</div>"
      ],
      "text/plain": [
       "   USSTOT16_x  USSTOT16_y\n",
       "0         245         245\n",
       "1         239         239\n",
       "2         107         107\n",
       "3         133         133\n",
       "4         404         404"
      ]
     },
     "execution_count": 15,
     "metadata": {},
     "output_type": "execute_result"
    }
   ],
   "source": [
    "validate[['USSTOT16_x','USSTOT16_y']].head()"
   ]
  },
  {
   "cell_type": "code",
   "execution_count": 16,
   "metadata": {},
   "outputs": [
    {
     "data": {
      "text/plain": [
       "1.0"
      ]
     },
     "execution_count": 16,
     "metadata": {},
     "output_type": "execute_result"
    }
   ],
   "source": [
    "validate['vote_diff_USSTOT16'] = validate.USSTOT16_x - validate.USSTOT16_y\n",
    "validate[validate.vote_diff_USSTOT16.abs()<10].shape[0] / validate.shape[0]"
   ]
  },
  {
   "cell_type": "code",
   "execution_count": 17,
   "metadata": {},
   "outputs": [
    {
     "data": {
      "text/html": [
       "<div>\n",
       "<style scoped>\n",
       "    .dataframe tbody tr th:only-of-type {\n",
       "        vertical-align: middle;\n",
       "    }\n",
       "\n",
       "    .dataframe tbody tr th {\n",
       "        vertical-align: top;\n",
       "    }\n",
       "\n",
       "    .dataframe thead th {\n",
       "        text-align: right;\n",
       "    }\n",
       "</style>\n",
       "<table border=\"1\" class=\"dataframe\">\n",
       "  <thead>\n",
       "    <tr style=\"text-align: right;\">\n",
       "      <th></th>\n",
       "      <th>PRETOT12_x</th>\n",
       "      <th>PRETOT12_y</th>\n",
       "    </tr>\n",
       "  </thead>\n",
       "  <tbody>\n",
       "    <tr>\n",
       "      <th>0</th>\n",
       "      <td>272</td>\n",
       "      <td>272</td>\n",
       "    </tr>\n",
       "    <tr>\n",
       "      <th>1</th>\n",
       "      <td>262</td>\n",
       "      <td>262</td>\n",
       "    </tr>\n",
       "    <tr>\n",
       "      <th>2</th>\n",
       "      <td>117</td>\n",
       "      <td>117</td>\n",
       "    </tr>\n",
       "    <tr>\n",
       "      <th>3</th>\n",
       "      <td>147</td>\n",
       "      <td>147</td>\n",
       "    </tr>\n",
       "    <tr>\n",
       "      <th>4</th>\n",
       "      <td>427</td>\n",
       "      <td>427</td>\n",
       "    </tr>\n",
       "  </tbody>\n",
       "</table>\n",
       "</div>"
      ],
      "text/plain": [
       "   PRETOT12_x  PRETOT12_y\n",
       "0         272         272\n",
       "1         262         262\n",
       "2         117         117\n",
       "3         147         147\n",
       "4         427         427"
      ]
     },
     "execution_count": 17,
     "metadata": {},
     "output_type": "execute_result"
    }
   ],
   "source": [
    "validate[['PRETOT12_x','PRETOT12_y']].head()"
   ]
  },
  {
   "cell_type": "code",
   "execution_count": 18,
   "metadata": {},
   "outputs": [
    {
     "data": {
      "text/plain": [
       "1.0"
      ]
     },
     "execution_count": 18,
     "metadata": {},
     "output_type": "execute_result"
    }
   ],
   "source": [
    "validate['vote_diff_PRETOT12'] = validate.PRETOT12_x - validate.PRETOT12_y\n",
    "validate[validate.vote_diff_PRETOT12.abs()<10].shape[0] / validate.shape[0]"
   ]
  },
  {
   "cell_type": "code",
   "execution_count": 19,
   "metadata": {
    "scrolled": true
   },
   "outputs": [
    {
     "data": {
      "text/html": [
       "<div>\n",
       "<style scoped>\n",
       "    .dataframe tbody tr th:only-of-type {\n",
       "        vertical-align: middle;\n",
       "    }\n",
       "\n",
       "    .dataframe tbody tr th {\n",
       "        vertical-align: top;\n",
       "    }\n",
       "\n",
       "    .dataframe thead th {\n",
       "        text-align: right;\n",
       "    }\n",
       "</style>\n",
       "<table border=\"1\" class=\"dataframe\">\n",
       "  <thead>\n",
       "    <tr style=\"text-align: right;\">\n",
       "      <th></th>\n",
       "      <th>WSSTOT12_x</th>\n",
       "      <th>WSSTOT12_y</th>\n",
       "    </tr>\n",
       "  </thead>\n",
       "  <tbody>\n",
       "    <tr>\n",
       "      <th>0</th>\n",
       "      <td>230</td>\n",
       "      <td>230</td>\n",
       "    </tr>\n",
       "    <tr>\n",
       "      <th>1</th>\n",
       "      <td>224</td>\n",
       "      <td>224</td>\n",
       "    </tr>\n",
       "    <tr>\n",
       "      <th>2</th>\n",
       "      <td>100</td>\n",
       "      <td>100</td>\n",
       "    </tr>\n",
       "    <tr>\n",
       "      <th>3</th>\n",
       "      <td>125</td>\n",
       "      <td>125</td>\n",
       "    </tr>\n",
       "    <tr>\n",
       "      <th>4</th>\n",
       "      <td>335</td>\n",
       "      <td>335</td>\n",
       "    </tr>\n",
       "  </tbody>\n",
       "</table>\n",
       "</div>"
      ],
      "text/plain": [
       "   WSSTOT12_x  WSSTOT12_y\n",
       "0         230         230\n",
       "1         224         224\n",
       "2         100         100\n",
       "3         125         125\n",
       "4         335         335"
      ]
     },
     "execution_count": 19,
     "metadata": {},
     "output_type": "execute_result"
    }
   ],
   "source": [
    "validate[['WSSTOT12_x','WSSTOT12_y']].head()"
   ]
  },
  {
   "cell_type": "code",
   "execution_count": 20,
   "metadata": {
    "scrolled": true
   },
   "outputs": [
    {
     "data": {
      "text/plain": [
       "1.0"
      ]
     },
     "execution_count": 20,
     "metadata": {},
     "output_type": "execute_result"
    }
   ],
   "source": [
    "validate['vote_diff_WSSTOT12'] = validate.WSSTOT12_x - validate.WSSTOT12_y\n",
    "validate[validate.vote_diff_WSSTOT12.abs()<10].shape[0] / validate.shape[0]"
   ]
  },
  {
   "cell_type": "code",
   "execution_count": 21,
   "metadata": {},
   "outputs": [
    {
     "data": {
      "text/html": [
       "<div>\n",
       "<style scoped>\n",
       "    .dataframe tbody tr th:only-of-type {\n",
       "        vertical-align: middle;\n",
       "    }\n",
       "\n",
       "    .dataframe tbody tr th {\n",
       "        vertical-align: top;\n",
       "    }\n",
       "\n",
       "    .dataframe thead th {\n",
       "        text-align: right;\n",
       "    }\n",
       "</style>\n",
       "<table border=\"1\" class=\"dataframe\">\n",
       "  <thead>\n",
       "    <tr style=\"text-align: right;\">\n",
       "      <th></th>\n",
       "      <th>WAGTOT14_x</th>\n",
       "      <th>WAGTOT14_y</th>\n",
       "    </tr>\n",
       "  </thead>\n",
       "  <tbody>\n",
       "    <tr>\n",
       "      <th>0</th>\n",
       "      <td>175</td>\n",
       "      <td>182</td>\n",
       "    </tr>\n",
       "    <tr>\n",
       "      <th>1</th>\n",
       "      <td>167</td>\n",
       "      <td>177</td>\n",
       "    </tr>\n",
       "    <tr>\n",
       "      <th>2</th>\n",
       "      <td>86</td>\n",
       "      <td>80</td>\n",
       "    </tr>\n",
       "    <tr>\n",
       "      <th>3</th>\n",
       "      <td>109</td>\n",
       "      <td>98</td>\n",
       "    </tr>\n",
       "    <tr>\n",
       "      <th>4</th>\n",
       "      <td>328</td>\n",
       "      <td>323</td>\n",
       "    </tr>\n",
       "    <tr>\n",
       "      <th>5</th>\n",
       "      <td>113</td>\n",
       "      <td>120</td>\n",
       "    </tr>\n",
       "    <tr>\n",
       "      <th>6</th>\n",
       "      <td>41</td>\n",
       "      <td>39</td>\n",
       "    </tr>\n",
       "    <tr>\n",
       "      <th>7</th>\n",
       "      <td>133</td>\n",
       "      <td>130</td>\n",
       "    </tr>\n",
       "    <tr>\n",
       "      <th>8</th>\n",
       "      <td>253</td>\n",
       "      <td>256</td>\n",
       "    </tr>\n",
       "    <tr>\n",
       "      <th>9</th>\n",
       "      <td>102</td>\n",
       "      <td>102</td>\n",
       "    </tr>\n",
       "  </tbody>\n",
       "</table>\n",
       "</div>"
      ],
      "text/plain": [
       "   WAGTOT14_x  WAGTOT14_y\n",
       "0         175         182\n",
       "1         167         177\n",
       "2          86          80\n",
       "3         109          98\n",
       "4         328         323\n",
       "5         113         120\n",
       "6          41          39\n",
       "7         133         130\n",
       "8         253         256\n",
       "9         102         102"
      ]
     },
     "execution_count": 21,
     "metadata": {},
     "output_type": "execute_result"
    }
   ],
   "source": [
    "validate[['WAGTOT14_x','WAGTOT14_y']].head(10)"
   ]
  },
  {
   "cell_type": "code",
   "execution_count": 22,
   "metadata": {},
   "outputs": [
    {
     "data": {
      "text/plain": [
       "0.7188724751281278"
      ]
     },
     "execution_count": 22,
     "metadata": {},
     "output_type": "execute_result"
    }
   ],
   "source": [
    "validate['vote_diff_WAGTOT14'] = validate.WAGTOT14_x - validate.WAGTOT14_y\n",
    "validate[validate.vote_diff_WAGTOT14.abs()<10].shape[0] / validate.shape[0]"
   ]
  },
  {
   "cell_type": "markdown",
   "metadata": {},
   "source": [
    "Decided to check Wisconsin Attorney General, because that was one of the columns in MGGG but not LTSB\n",
    "\n",
    "Validation rate is around 71% \n",
    "\n",
    "Not sure why? Sum for votes is slightly off too"
   ]
  },
  {
   "cell_type": "code",
   "execution_count": 23,
   "metadata": {},
   "outputs": [
    {
     "data": {
      "text/plain": [
       "2343440"
      ]
     },
     "execution_count": 23,
     "metadata": {},
     "output_type": "execute_result"
    }
   ],
   "source": [
    "#get MGGG WAGTOT14 sum\n",
    "validate['WAGTOT14_x'].sum()"
   ]
  },
  {
   "cell_type": "code",
   "execution_count": 24,
   "metadata": {},
   "outputs": [
    {
     "data": {
      "text/plain": [
       "2350325"
      ]
     },
     "execution_count": 24,
     "metadata": {},
     "output_type": "execute_result"
    }
   ],
   "source": [
    "#get LTSB WAGTOT14 sum\n",
    "validate['WAGTOT14_y'].sum()"
   ]
  },
  {
   "cell_type": "markdown",
   "metadata": {},
   "source": [
    "Took a look at the 2014 Attorney General vote totals gathered from: \n",
    "https://elections.wi.gov/elections-voting/results/2014/fall-general\n",
    "    \n",
    "It reported a vote total of 2,350,325 which matches the LTSB sum\n",
    "\n",
    "\n",
    "MGGG WAGTOT14 is not as accurate, unsure where they got the source from"
   ]
  },
  {
   "cell_type": "markdown",
   "metadata": {},
   "source": [
    "Took a brief look at the Attorney General of Wisconsin elections, it seems like they hold 4 year terms:\n",
    "https://en.wikipedia.org/wiki/Attorney_General_of_Wisconsin\n",
    "\n",
    "Not sure there should be a WAGTOT12 column, looked at the 2012 elections results page on the Wisconsin Elections Commission website and didn't find any indication there was an attorney general election that year?\n",
    "\n",
    "https://elections.wi.gov/elections-voting/results/2012/fall-general\n",
    "\n",
    "There was an attorney general election in 2010, but the sum of votes is 2,112,485 which does not exactly match with what MGGG has either:\n",
    "https://elections.wi.gov/sites/elections.wi.gov/files/2010%20Fall%20General%20Election%20Results%20Summary.pdf"
   ]
  },
  {
   "cell_type": "code",
   "execution_count": 25,
   "metadata": {},
   "outputs": [
    {
     "data": {
      "text/plain": [
       "2189676"
      ]
     },
     "execution_count": 25,
     "metadata": {},
     "output_type": "execute_result"
    }
   ],
   "source": [
    "validate['WAGTOT12'].sum()"
   ]
  },
  {
   "cell_type": "markdown",
   "metadata": {},
   "source": [
    "MGGG file includes a mistake from an older version of the LTSB file:\n",
    "    \n",
    "The shapefile has results for 2014 that use the LTSB code for US Senate (USS). \n",
    "This is a mistake that the LTSB has fixed in later versions of this shapefile. \n",
    "There was no US Senate election in Wisconsin in 2014. \n",
    "These are the results for the Wisconsin state senate. \n",
    "This is reflected in the descriptions of the variables.\n",
    "\n",
    "Validate based on the different names"
   ]
  },
  {
   "cell_type": "code",
   "execution_count": 26,
   "metadata": {},
   "outputs": [
    {
     "data": {
      "text/html": [
       "<div>\n",
       "<style scoped>\n",
       "    .dataframe tbody tr th:only-of-type {\n",
       "        vertical-align: middle;\n",
       "    }\n",
       "\n",
       "    .dataframe tbody tr th {\n",
       "        vertical-align: top;\n",
       "    }\n",
       "\n",
       "    .dataframe thead th {\n",
       "        text-align: right;\n",
       "    }\n",
       "</style>\n",
       "<table border=\"1\" class=\"dataframe\">\n",
       "  <thead>\n",
       "    <tr style=\"text-align: right;\">\n",
       "      <th></th>\n",
       "      <th>USSTOT14</th>\n",
       "      <th>WSSTOT14</th>\n",
       "    </tr>\n",
       "  </thead>\n",
       "  <tbody>\n",
       "    <tr>\n",
       "      <th>0</th>\n",
       "      <td>0</td>\n",
       "      <td>0</td>\n",
       "    </tr>\n",
       "    <tr>\n",
       "      <th>1</th>\n",
       "      <td>0</td>\n",
       "      <td>0</td>\n",
       "    </tr>\n",
       "    <tr>\n",
       "      <th>2</th>\n",
       "      <td>0</td>\n",
       "      <td>0</td>\n",
       "    </tr>\n",
       "    <tr>\n",
       "      <th>3</th>\n",
       "      <td>0</td>\n",
       "      <td>0</td>\n",
       "    </tr>\n",
       "    <tr>\n",
       "      <th>4</th>\n",
       "      <td>0</td>\n",
       "      <td>0</td>\n",
       "    </tr>\n",
       "  </tbody>\n",
       "</table>\n",
       "</div>"
      ],
      "text/plain": [
       "   USSTOT14  WSSTOT14\n",
       "0         0         0\n",
       "1         0         0\n",
       "2         0         0\n",
       "3         0         0\n",
       "4         0         0"
      ]
     },
     "execution_count": 26,
     "metadata": {},
     "output_type": "execute_result"
    }
   ],
   "source": [
    "validate[['USSTOT14','WSSTOT14']].head()"
   ]
  },
  {
   "cell_type": "code",
   "execution_count": 27,
   "metadata": {},
   "outputs": [
    {
     "data": {
      "text/plain": [
       "0.8460958697618329"
      ]
     },
     "execution_count": 27,
     "metadata": {},
     "output_type": "execute_result"
    }
   ],
   "source": [
    "validate['vote_diff_WSSTOT14'] = validate.USSTOT14 - validate.WSSTOT14\n",
    "validate[validate.vote_diff_WSSTOT14.abs()<10].shape[0] / validate.shape[0]"
   ]
  },
  {
   "cell_type": "code",
   "execution_count": 28,
   "metadata": {},
   "outputs": [
    {
     "data": {
      "text/plain": [
       "0.9389508592101297"
      ]
     },
     "execution_count": 28,
     "metadata": {},
     "output_type": "execute_result"
    }
   ],
   "source": [
    "validate['vote_diff_WSSDEM14'] = validate.USSDEM14 - validate.WSSDEM14\n",
    "validate[validate.vote_diff_WSSDEM14.abs()<10].shape[0] / validate.shape[0]"
   ]
  },
  {
   "cell_type": "code",
   "execution_count": 29,
   "metadata": {},
   "outputs": [
    {
     "data": {
      "text/plain": [
       "0.9223696110943623"
      ]
     },
     "execution_count": 29,
     "metadata": {},
     "output_type": "execute_result"
    }
   ],
   "source": [
    "validate['vote_diff_WSSREP14'] = validate.USSREP14 - validate.WSSREP14\n",
    "validate[validate.vote_diff_WSSREP14.abs()<10].shape[0] / validate.shape[0]"
   ]
  },
  {
   "cell_type": "code",
   "execution_count": 30,
   "metadata": {},
   "outputs": [
    {
     "data": {
      "text/plain": [
       "0.9996985227615315"
      ]
     },
     "execution_count": 30,
     "metadata": {},
     "output_type": "execute_result"
    }
   ],
   "source": [
    "validate['vote_diff_WSSIND14'] = validate.USSIND14 - validate.WSSIND14\n",
    "validate[validate.vote_diff_WSSIND14.abs()<10].shape[0] / validate.shape[0]"
   ]
  },
  {
   "cell_type": "code",
   "execution_count": 31,
   "metadata": {},
   "outputs": [
    {
     "data": {
      "text/plain": [
       "0.9995477841422973"
      ]
     },
     "execution_count": 31,
     "metadata": {},
     "output_type": "execute_result"
    }
   ],
   "source": [
    "validate['vote_diff_WSSSCT14'] = validate.USSSCT14 - validate.WSSSCT14\n",
    "validate[validate.vote_diff_WSSSCT14.abs()<10].shape[0] / validate.shape[0]"
   ]
  },
  {
   "cell_type": "markdown",
   "metadata": {},
   "source": [
    "Validate some populations just to double check those too"
   ]
  },
  {
   "cell_type": "code",
   "execution_count": 32,
   "metadata": {},
   "outputs": [
    {
     "data": {
      "text/html": [
       "<div>\n",
       "<style scoped>\n",
       "    .dataframe tbody tr th:only-of-type {\n",
       "        vertical-align: middle;\n",
       "    }\n",
       "\n",
       "    .dataframe tbody tr th {\n",
       "        vertical-align: top;\n",
       "    }\n",
       "\n",
       "    .dataframe thead th {\n",
       "        text-align: right;\n",
       "    }\n",
       "</style>\n",
       "<table border=\"1\" class=\"dataframe\">\n",
       "  <thead>\n",
       "    <tr style=\"text-align: right;\">\n",
       "      <th></th>\n",
       "      <th>PERSONS_x</th>\n",
       "      <th>PERSONS_y</th>\n",
       "    </tr>\n",
       "  </thead>\n",
       "  <tbody>\n",
       "    <tr>\n",
       "      <th>0</th>\n",
       "      <td>661</td>\n",
       "      <td>661</td>\n",
       "    </tr>\n",
       "    <tr>\n",
       "      <th>1</th>\n",
       "      <td>652</td>\n",
       "      <td>652</td>\n",
       "    </tr>\n",
       "    <tr>\n",
       "      <th>2</th>\n",
       "      <td>288</td>\n",
       "      <td>288</td>\n",
       "    </tr>\n",
       "    <tr>\n",
       "      <th>3</th>\n",
       "      <td>366</td>\n",
       "      <td>366</td>\n",
       "    </tr>\n",
       "    <tr>\n",
       "      <th>4</th>\n",
       "      <td>902</td>\n",
       "      <td>902</td>\n",
       "    </tr>\n",
       "  </tbody>\n",
       "</table>\n",
       "</div>"
      ],
      "text/plain": [
       "   PERSONS_x  PERSONS_y\n",
       "0        661        661\n",
       "1        652        652\n",
       "2        288        288\n",
       "3        366        366\n",
       "4        902        902"
      ]
     },
     "execution_count": 32,
     "metadata": {},
     "output_type": "execute_result"
    }
   ],
   "source": [
    "validate[['PERSONS_x','PERSONS_y']].head()"
   ]
  },
  {
   "cell_type": "code",
   "execution_count": 33,
   "metadata": {},
   "outputs": [
    {
     "data": {
      "text/plain": [
       "1.0"
      ]
     },
     "execution_count": 33,
     "metadata": {},
     "output_type": "execute_result"
    }
   ],
   "source": [
    "validate['pop_diff_PERSONS'] = validate.PERSONS_x - validate.PERSONS_y\n",
    "validate[validate.pop_diff_PERSONS.abs()<10].shape[0] / validate.shape[0]"
   ]
  },
  {
   "cell_type": "code",
   "execution_count": 34,
   "metadata": {},
   "outputs": [
    {
     "data": {
      "text/html": [
       "<div>\n",
       "<style scoped>\n",
       "    .dataframe tbody tr th:only-of-type {\n",
       "        vertical-align: middle;\n",
       "    }\n",
       "\n",
       "    .dataframe tbody tr th {\n",
       "        vertical-align: top;\n",
       "    }\n",
       "\n",
       "    .dataframe thead th {\n",
       "        text-align: right;\n",
       "    }\n",
       "</style>\n",
       "<table border=\"1\" class=\"dataframe\">\n",
       "  <thead>\n",
       "    <tr style=\"text-align: right;\">\n",
       "      <th></th>\n",
       "      <th>HISPANIC18_x</th>\n",
       "      <th>HISPANIC18_y</th>\n",
       "    </tr>\n",
       "  </thead>\n",
       "  <tbody>\n",
       "    <tr>\n",
       "      <th>0</th>\n",
       "      <td>8</td>\n",
       "      <td>8</td>\n",
       "    </tr>\n",
       "    <tr>\n",
       "      <th>1</th>\n",
       "      <td>7</td>\n",
       "      <td>7</td>\n",
       "    </tr>\n",
       "    <tr>\n",
       "      <th>2</th>\n",
       "      <td>2</td>\n",
       "      <td>2</td>\n",
       "    </tr>\n",
       "    <tr>\n",
       "      <th>3</th>\n",
       "      <td>2</td>\n",
       "      <td>2</td>\n",
       "    </tr>\n",
       "    <tr>\n",
       "      <th>4</th>\n",
       "      <td>21</td>\n",
       "      <td>21</td>\n",
       "    </tr>\n",
       "  </tbody>\n",
       "</table>\n",
       "</div>"
      ],
      "text/plain": [
       "   HISPANIC18_x  HISPANIC18_y\n",
       "0             8             8\n",
       "1             7             7\n",
       "2             2             2\n",
       "3             2             2\n",
       "4            21            21"
      ]
     },
     "execution_count": 34,
     "metadata": {},
     "output_type": "execute_result"
    }
   ],
   "source": [
    "validate[['HISPANIC18_x','HISPANIC18_y']].head()"
   ]
  },
  {
   "cell_type": "code",
   "execution_count": 35,
   "metadata": {},
   "outputs": [
    {
     "data": {
      "text/plain": [
       "1.0"
      ]
     },
     "execution_count": 35,
     "metadata": {},
     "output_type": "execute_result"
    }
   ],
   "source": [
    "validate['pop_diff_HISPANIC18'] = validate.HISPANIC18_x - validate.HISPANIC18_y\n",
    "validate[validate.pop_diff_HISPANIC18.abs()<10].shape[0] / validate.shape[0]"
   ]
  },
  {
   "cell_type": "code",
   "execution_count": null,
   "metadata": {},
   "outputs": [],
   "source": []
  }
 ],
 "metadata": {
  "kernelspec": {
   "display_name": "Python 3",
   "language": "python",
   "name": "python3"
  },
  "language_info": {
   "codemirror_mode": {
    "name": "ipython",
    "version": 3
   },
   "file_extension": ".py",
   "mimetype": "text/x-python",
   "name": "python",
   "nbconvert_exporter": "python",
   "pygments_lexer": "ipython3",
   "version": "3.8.3"
  }
 },
 "nbformat": 4,
 "nbformat_minor": 4
}
